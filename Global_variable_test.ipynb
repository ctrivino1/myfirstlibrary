{
  "nbformat": 4,
  "nbformat_minor": 0,
  "metadata": {
    "colab": {
      "private_outputs": true,
      "provenance": [],
      "authorship_tag": "ABX9TyONOF6HCwZNwzhGb0mvGUjb",
      "include_colab_link": true
    },
    "kernelspec": {
      "name": "python3",
      "display_name": "Python 3"
    },
    "language_info": {
      "name": "python"
    }
  },
  "cells": [
    {
      "cell_type": "markdown",
      "metadata": {
        "id": "view-in-github",
        "colab_type": "text"
      },
      "source": [
        "<a href=\"https://colab.research.google.com/github/ctrivino1/myfirstlibrary/blob/main/Global_variable_test.ipynb\" target=\"_parent\"><img src=\"https://colab.research.google.com/assets/colab-badge.svg\" alt=\"Open In Colab\"/></a>"
      ]
    },
    {
      "cell_type": "code",
      "execution_count": null,
      "metadata": {
        "id": "_JMWiWuZZa7r"
      },
      "outputs": [],
      "source": [
        "!pip install git+https://github.com/ctrivino1/myfirstlibrary.git"
      ]
    },
    {
      "cell_type": "code",
      "source": [
        "from function_folder import addition_func # importing the .py script so that I can access global variables, but if no global variables are found in a fucntion I can just import the function like so:\n",
        "#from function_folder import addition\n",
        "#from function_folder import global_variable_advanced # same here\n",
        "from function_folder import GlobalVariables"
      ],
      "metadata": {
        "id": "0a9jFJ4Nb7bJ"
      },
      "execution_count": null,
      "outputs": []
    },
    {
      "cell_type": "code",
      "source": [
        "test = addition_func.addition(1)\n",
        "test"
      ],
      "metadata": {
        "id": "A2WyBVPXj8Jw"
      },
      "execution_count": null,
      "outputs": []
    },
    {
      "cell_type": "code",
      "source": [
        "print(addition_func.global_test)"
      ],
      "metadata": {
        "id": "nRyB2uXnnaBJ"
      },
      "execution_count": null,
      "outputs": []
    },
    {
      "cell_type": "code",
      "source": [
        "globals = GlobalVariables()"
      ],
      "metadata": {
        "id": "5Ws68M7lnag-"
      },
      "execution_count": null,
      "outputs": []
    },
    {
      "cell_type": "code",
      "source": [
        "globals.run_all_functions()"
      ],
      "metadata": {
        "id": "MaTKIuHjxO28"
      },
      "execution_count": null,
      "outputs": []
    },
    {
      "cell_type": "code",
      "source": [
        "globals.advanced_variable"
      ],
      "metadata": {
        "id": "rsBPqL2YxSgb"
      },
      "execution_count": null,
      "outputs": []
    },
    {
      "cell_type": "code",
      "source": [],
      "metadata": {
        "id": "mld2ElKRxlJZ"
      },
      "execution_count": null,
      "outputs": []
    }
  ]
}